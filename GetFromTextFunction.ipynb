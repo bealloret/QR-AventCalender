{
 "cells": [
  {
   "cell_type": "code",
   "execution_count": null,
   "id": "5bdac403-ca46-4e73-8901-b7fed936c5d2",
   "metadata": {},
   "outputs": [],
   "source": [
    "import re\n",
    "import qrcode\n",
    "\n",
    "def process_textlist_qrcodes(textfile):\n",
    "    # Read the chat text file\n",
    "    with open(textfile, 'r', encoding='utf-8') as file:\n",
    "        chat_text = file.read()\n",
    "\n",
    "    # Regular expression to find URLs\n",
    "    urls = re.findall(r'(https?://\\S+)', chat_text)\n",
    "\n",
    "    # Write extracted URLs to a file\n",
    "    with open('extracted_links.txt', 'w') as output_file:\n",
    "        for url in urls:\n",
    "            output_file.write(url + '\\n')\n",
    "\n",
    "    # Read extracted links from the text file\n",
    "    with open('extracted_links.txt', 'r') as file:\n",
    "        urls = file.readlines()\n",
    "        urls = [url.strip() for url in urls]\n",
    "\n",
    "    # Generate QR codes for each URL\n",
    "    for index, url in enumerate(urls, start=1):\n",
    "        qr = qrcode.QRCode(\n",
    "            version=1,\n",
    "            error_correction=qrcode.constants.ERROR_CORRECT_H,\n",
    "            box_size=5,\n",
    "            border=4,\n",
    "        )\n",
    "        qr.add_data(url)\n",
    "        qr.make(fit=True)\n",
    "\n",
    "        img = qr.make_image(fill_color=\"black\", back_color=\"white\")\n",
    "        img.save(f\"qr_code_{index}.png\")\n",
    "        print(f\"QR code generated for URL {index}: {url}\")\n",
    "\n",
    "# Example usage:\n",
    "process_textlist_qrcodes('whatsapp_chat.txt')"
   ]
  }
 ],
 "metadata": {
  "kernelspec": {
   "display_name": "Python 3 (ipykernel)",
   "language": "python",
   "name": "python3"
  },
  "language_info": {
   "codemirror_mode": {
    "name": "ipython",
    "version": 3
   },
   "file_extension": ".py",
   "mimetype": "text/x-python",
   "name": "python",
   "nbconvert_exporter": "python",
   "pygments_lexer": "ipython3",
   "version": "3.11.3"
  }
 },
 "nbformat": 4,
 "nbformat_minor": 5
}
